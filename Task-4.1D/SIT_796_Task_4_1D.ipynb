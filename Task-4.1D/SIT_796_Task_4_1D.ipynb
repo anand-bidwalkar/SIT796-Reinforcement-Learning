{
  "nbformat": 4,
  "nbformat_minor": 0,
  "metadata": {
    "colab": {
      "name": "SIT-796_Task-4.1D",
      "provenance": [],
      "authorship_tag": "ABX9TyOlsPMKP3OESzh/3JqbeArA",
      "include_colab_link": true
    },
    "kernelspec": {
      "name": "python3",
      "display_name": "Python 3"
    },
    "language_info": {
      "name": "python"
    }
  },
  "cells": [
    {
      "cell_type": "markdown",
      "metadata": {
        "id": "view-in-github",
        "colab_type": "text"
      },
      "source": [
        "<a href=\"https://colab.research.google.com/github/anand-bidwalkar/SIT796-Reinforcement-Learning/blob/master/Task-4.1D/SIT_796_Task_4_1D.ipynb\" target=\"_parent\"><img src=\"https://colab.research.google.com/assets/colab-badge.svg\" alt=\"Open In Colab\"/></a>"
      ]
    },
    {
      "cell_type": "code",
      "metadata": {
        "id": "FRDqkJ9bPgv-"
      },
      "source": [
        "import sys\n",
        "from contextlib import closing\n",
        "\n",
        "import numpy as np\n",
        "from io import StringIO\n",
        "\n",
        "from gym import utils\n",
        "from gym.envs.toy_text import discrete"
      ],
      "execution_count": 3,
      "outputs": []
    },
    {
      "cell_type": "code",
      "metadata": {
        "id": "G6FCT1Muczez"
      },
      "source": [
        "LEFT = 0\n",
        "DOWN = 1\n",
        "RIGHT = 2\n",
        "UP = 3\n",
        "\n",
        "MAPS = {\n",
        "    \"4x4\": [\n",
        "        \"SFFF\",\n",
        "        \"FHFH\",\n",
        "        \"FFFH\",\n",
        "        \"HFFG\"\n",
        "    ],\n",
        "    \"8x8\": [\n",
        "        \"SFFFFFFF\",\n",
        "        \"FFFFFFFF\",\n",
        "        \"FFFHFFFF\",\n",
        "        \"FFFFFHFF\",\n",
        "        \"FFFHFFFF\",\n",
        "        \"FHHFFFHF\",\n",
        "        \"FHFFHFHF\",\n",
        "        \"FFFHFFFG\"\n",
        "    ],\n",
        "}\n",
        "\n",
        "\n",
        "def generate_random_map(size=8, p=0.8):\n",
        "    valid = False\n",
        "\n",
        "    # DFS to check that it's a valid path.\n",
        "    def is_valid(res):\n",
        "        frontier, discovered = [], set()\n",
        "        frontier.append((0, 0))\n",
        "        while frontier:\n",
        "            r, c = frontier.pop()\n",
        "            if not (r, c) in discovered:\n",
        "                discovered.add((r, c))\n",
        "                directions = [(1, 0), (0, 1), (-1, 0), (0, -1)]\n",
        "                for x, y in directions:\n",
        "                    r_new = r + x\n",
        "                    c_new = c + y\n",
        "                    if r_new < 0 or r_new >= size or c_new < 0 or c_new >= size:\n",
        "                        continue\n",
        "                    if res[r_new][c_new] == 'G':\n",
        "                        return True\n",
        "                    if (res[r_new][c_new] != 'H'):\n",
        "                        frontier.append((r_new, c_new))\n",
        "        return False\n",
        "\n",
        "    while not valid:\n",
        "        p = min(1, p)\n",
        "        res = np.random.choice(['F', 'H'], (size, size), p=[p, 1-p])\n",
        "        res[0][0] = 'S'\n",
        "        res[-1][-1] = 'G'\n",
        "        valid = is_valid(res)\n",
        "    return [\"\".join(x) for x in res]\n",
        "\n",
        "\n",
        "class FrozenLakeEnv(discrete.DiscreteEnv):\n",
        "\n",
        "    metadata = {'render.modes': ['human', 'ansi']}\n",
        "\n",
        "    def __init__(self, desc=None, map_name=\"4x4\", is_slippery=True):\n",
        "        if desc is None and map_name is None:\n",
        "            desc = generate_random_map()\n",
        "        elif desc is None:\n",
        "            desc = MAPS[map_name]\n",
        "        self.desc = desc = np.asarray(desc, dtype='c')\n",
        "        self.nrow, self.ncol = nrow, ncol = desc.shape\n",
        "        self.reward_range = (0, 1)\n",
        "\n",
        "        nA = 4\n",
        "        nS = nrow * ncol\n",
        "\n",
        "        isd = np.array(desc == b'S').astype('float64').ravel()\n",
        "        isd /= isd.sum()\n",
        "\n",
        "        P = {s: {a: [] for a in range(nA)} for s in range(nS)}\n",
        "\n",
        "        def to_s(row, col):\n",
        "            return row*ncol + col\n",
        "\n",
        "        def inc(row, col, a):\n",
        "            if a == LEFT:\n",
        "                col = max(col - 1, 0)\n",
        "            elif a == DOWN:\n",
        "                row = min(row + 1, nrow - 1)\n",
        "            elif a == RIGHT:\n",
        "                col = min(col + 1, ncol - 1)\n",
        "            elif a == UP:\n",
        "                row = max(row - 1, 0)\n",
        "            return (row, col)\n",
        "\n",
        "        def update_probability_matrix(row, col, action):\n",
        "            newrow, newcol = inc(row, col, action)\n",
        "            newstate = to_s(newrow, newcol)\n",
        "            newletter = desc[newrow, newcol]\n",
        "            done = bytes(newletter) in b'GH'\n",
        "            reward = float(newletter == b'G')\n",
        "            return newstate, reward, done\n",
        "\n",
        "        for row in range(nrow):\n",
        "            for col in range(ncol):\n",
        "                s = to_s(row, col)\n",
        "                for a in range(4):\n",
        "                    li = P[s][a]\n",
        "                    letter = desc[row, col]\n",
        "                    if letter in b'GH':\n",
        "                        li.append((1.0, s, 0, True))\n",
        "                    else:\n",
        "                        if is_slippery:\n",
        "                            for b in [(a - 1) % 4, a, (a + 1) % 4]:\n",
        "                                li.append((\n",
        "                                    1. / 3.,\n",
        "                                    *update_probability_matrix(row, col, b)\n",
        "                                ))\n",
        "                        else:\n",
        "                            li.append((\n",
        "                                1., *update_probability_matrix(row, col, a)\n",
        "                            ))\n",
        "\n",
        "        super(FrozenLakeEnv, self).__init__(nS, nA, P, isd)\n",
        "\n",
        "    def render(self, mode='human'):\n",
        "        outfile = StringIO() if mode == 'ansi' else sys.stdout\n",
        "\n",
        "        row, col = self.s // self.ncol, self.s % self.ncol\n",
        "        desc = self.desc.tolist()\n",
        "        desc = [[c.decode('utf-8') for c in line] for line in desc]\n",
        "        desc[row][col] = utils.colorize(desc[row][col], \"red\", highlight=True)\n",
        "        if self.lastaction is not None:\n",
        "            outfile.write(\"  ({})\\n\".format(\n",
        "                [\"Left\", \"Down\", \"Right\", \"Up\"][self.lastaction]))\n",
        "        else:\n",
        "            outfile.write(\"\\n\")\n",
        "        outfile.write(\"\\n\".join(''.join(line) for line in desc)+\"\\n\")"
      ],
      "execution_count": 4,
      "outputs": []
    },
    {
      "cell_type": "code",
      "metadata": {
        "id": "lVDepfkRdCY-"
      },
      "source": [
        "def play_episodes(enviorment, n_episodes, policy, random = False):\n",
        "    \n",
        "    total_reward = 0\n",
        "    episode_rewards = []\n",
        "    \n",
        "    for episode in range(n_episodes):\n",
        "        \n",
        "        terminated = False        \n",
        "        state = enviorment.reset()\n",
        "        \n",
        "        while not terminated:\n",
        "            \n",
        "            # check if the random flag is not true then follow the given policy other wise take random action\n",
        "            if random:\n",
        "                action = enviorment.action_space.sample()\n",
        "            else:\n",
        "                action = policy[state]\n",
        "\n",
        "            # take the next step\n",
        "            next_state, reward,  terminated, info = enviorment.step(action)\n",
        "            \n",
        "            # accumalate total reward\n",
        "            total_reward += reward\n",
        "            \n",
        "            # change the state\n",
        "            state = next_state\n",
        "\n",
        "            episode_rewards.append((episode, total_reward))\n",
        "                \n",
        "    average_reward = total_reward / n_episodes\n",
        "    \n",
        "    return total_reward, average_reward, episode_rewards\n"
      ],
      "execution_count": 5,
      "outputs": []
    },
    {
      "cell_type": "code",
      "metadata": {
        "id": "DMa-5MdAdEoQ"
      },
      "source": [
        "import numpy as np\n",
        "import gym\n",
        "env = FrozenLakeEnv()"
      ],
      "execution_count": 6,
      "outputs": []
    },
    {
      "cell_type": "markdown",
      "metadata": {
        "id": "ZjaeqZ_KPs5w"
      },
      "source": [
        "Random Policy Iteration"
      ]
    },
    {
      "cell_type": "code",
      "metadata": {
        "id": "hWcpNfaQdfbw"
      },
      "source": [
        "n_episode = 1000\n",
        "total_reward, avg_reward, episode_rewards = play_episodes(env, n_episode, [], random = True)"
      ],
      "execution_count": 7,
      "outputs": []
    },
    {
      "cell_type": "code",
      "metadata": {
        "colab": {
          "base_uri": "https://localhost:8080/",
          "height": 735
        },
        "id": "zdebGB2Adgpo",
        "outputId": "22f55052-096f-48fe-ca7d-eb6a4197cba5"
      },
      "source": [
        "import matplotlib.pyplot as plt\n",
        "plt.figure(figsize=(20, 12))\n",
        "plt.plot([x for x, y in episode_rewards], [y for x, y in episode_rewards],color='green')\n",
        "plt.title('Reward vs Episodes', fontsize=14)\n",
        "plt.xlabel('Iteration', fontsize=14)\n",
        "plt.ylabel('Reward', fontsize=14)\n",
        "plt.grid(False)\n",
        "plt.show()"
      ],
      "execution_count": 8,
      "outputs": [
        {
          "output_type": "display_data",
          "data": {
            "image/png": "[encoded data removed]",
            "text/plain": [
              "<Figure size 1440x864 with 1 Axes>"
            ]
          },
          "metadata": {
            "tags": [],
            "needs_background": "light"
          }
        }
      ]
    },
    {
      "cell_type": "markdown",
      "metadata": {
        "id": "WOK7ibw_Pwz3"
      },
      "source": [
        "Optimal Policy Iteration and Evaluation"
      ]
    },
    {
      "cell_type": "code",
      "metadata": {
        "id": "7L3kx05WdiGY"
      },
      "source": [
        "def policy_eval(env, policy, V, discount_factor):\n",
        "\n",
        "    policy_value = np.zeros(env.nS)\n",
        "    for state, action in enumerate(policy):\n",
        "        for probablity, next_state, reward, info in env.P[state][action]:\n",
        "            policy_value[state] += probablity * (reward + (discount_factor * V[next_state]))\n",
        "            \n",
        "    return policy_value"
      ],
      "execution_count": 9,
      "outputs": []
    },
    {
      "cell_type": "code",
      "metadata": {
        "id": "VB6ffOM5dlxv"
      },
      "source": [
        "def one_step_lookahead(env, state, V , discount_factor = 0.90):    \n",
        "    action_values = np.zeros(env.nA)\n",
        "    \n",
        "    for action in range(env.nA):\n",
        "        for probablity, next_state, reward, info in env.P[state][action]:\n",
        "            action_values[action] += probablity * (reward + (discount_factor * V[next_state]))\n",
        "            \n",
        "    return action_values"
      ],
      "execution_count": 10,
      "outputs": []
    },
    {
      "cell_type": "code",
      "metadata": {
        "id": "xiLG3IHudnDM"
      },
      "source": [
        "def update_policy(env, policy, V, discount_factor):    \n",
        "    \n",
        "    for state in range(env.nS):\n",
        "        action_values = one_step_lookahead(env, state, V, discount_factor)        \n",
        "        policy[state] =  np.argmax(action_values)\n",
        "        \n",
        "    return policy"
      ],
      "execution_count": 11,
      "outputs": []
    },
    {
      "cell_type": "code",
      "metadata": {
        "id": "HYsbI8zxdoOB"
      },
      "source": [
        "def policy_iteration(env, discount_factor = 0.90, max_iteration = 1000):\n",
        "\n",
        "    V = np.zeros(env.nS)    \n",
        "    policy = np.random.randint(0, 4, env.nS)\n",
        "    policy_prev = np.copy(policy)\n",
        "    \n",
        "    for i in range(max_iteration):\n",
        "        \n",
        "        V = policy_eval(env, policy, V, discount_factor)        \n",
        "        policy = update_policy(env, policy, V, discount_factor)\n",
        "        \n",
        "        if i % 10 == 0:\n",
        "            if (np.all(np.equal(policy, policy_prev))):\n",
        "                print('policy converged at iteration %d' %(i+1))\n",
        "                break\n",
        "            policy_prev = np.copy(policy)\n",
        "                        \n",
        "    return V, policy"
      ],
      "execution_count": 12,
      "outputs": []
    },
    {
      "cell_type": "code",
      "metadata": {
        "colab": {
          "base_uri": "https://localhost:8080/"
        },
        "id": "wIogf1_sdp6i",
        "outputId": "a944ac37-af79-48cb-c1e6-82ed247632f6"
      },
      "source": [
        "opt_V2, opt_policy2 = policy_iteration(env, discount_factor = 0.90, max_iteration = 10000)\n",
        "print('Optimal Value function: ')\n",
        "print(opt_V2.reshape((4, 4)))\n",
        "print('Final Policy: ')\n",
        "print(opt_policy2)"
      ],
      "execution_count": 13,
      "outputs": [
        {
          "output_type": "stream",
          "text": [
            "policy converged at iteration 31\n",
            "Optimal Value function: \n",
            "[[0.0651776  0.05828125 0.07212566 0.05331999]\n",
            " [0.08846727 0.         0.11096941 0.        ]\n",
            " [0.14267761 0.24562088 0.29829636 0.        ]\n",
            " [0.         0.37856825 0.63829882 0.        ]]\n",
            "Final Policy: \n",
            "[0 3 0 3 0 0 0 0 3 1 0 0 0 2 1 0]\n"
          ],
          "name": "stdout"
        }
      ]
    },
    {
      "cell_type": "code",
      "metadata": {
        "id": "DcI03cYSdroO"
      },
      "source": [
        "n_episode = 1000\n",
        "total_reward, avg_reward, episode_rewards = play_episodes(env, n_episode, opt_policy2, random = False)"
      ],
      "execution_count": 14,
      "outputs": []
    },
    {
      "cell_type": "code",
      "metadata": {
        "colab": {
          "base_uri": "https://localhost:8080/",
          "height": 735
        },
        "id": "deY-fcnAdtHe",
        "outputId": "f50fa4f2-7232-4e26-8604-4824f75036d7"
      },
      "source": [
        "import matplotlib.pyplot as plt\n",
        "plt.figure(figsize=(20, 12))\n",
        "plt.plot([x for x, y in episode_rewards], [y for x, y in episode_rewards],color='green')\n",
        "plt.title('Reward vs Episodes', fontsize=14)\n",
        "plt.xlabel('Iteration', fontsize=14)\n",
        "plt.ylabel('Reward', fontsize=14)\n",
        "plt.grid(False)\n",
        "plt.show()"
      ],
      "execution_count": 15,
      "outputs": [
        {
          "output_type": "display_data",
          "data": {
            "image/png": "[encoded data removed]",
            "text/plain": [
              "<Figure size 1440x864 with 1 Axes>"
            ]
          },
          "metadata": {
            "tags": [],
            "needs_background": "light"
          }
        }
      ]
    },
    {
      "cell_type": "markdown",
      "metadata": {
        "id": "XQmlg6WjP4zU"
      },
      "source": [
        "Value Iteration"
      ]
    },
    {
      "cell_type": "code",
      "metadata": {
        "id": "XX8ivum9du3x"
      },
      "source": [
        "def value_iteration(env, discount_factor = 0.999, max_iteration = 1000):\n",
        "\n",
        "    V = np.zeros(env.nS)\n",
        "    \n",
        "    for i in range(max_iteration):\n",
        "        prev_v = np.copy(V) \n",
        "        for state in range(env.nS):\n",
        "            \n",
        "            action_values = one_step_lookahead(env, state, prev_v, discount_factor)\n",
        "            best_action_value = np.max(action_values)\n",
        "                        \n",
        "            V[state] =  best_action_value\n",
        "                    \n",
        "        if i % 10 == 0:            \n",
        "            if (np.all(np.isclose(V, prev_v))):\n",
        "                print('Value converged at iteration %d' %(i+1))\n",
        "                break    \n",
        "    \n",
        "    optimal_policy = np.zeros(env.nS, dtype = 'int8')\n",
        "    optimal_policy = update_policy(env, optimal_policy, V, discount_factor)\n",
        "    \n",
        "    return V, optimal_policy"
      ],
      "execution_count": 16,
      "outputs": []
    },
    {
      "cell_type": "code",
      "metadata": {
        "colab": {
          "base_uri": "https://localhost:8080/"
        },
        "id": "nep3cC6rd_2I",
        "outputId": "d6462ccf-6c95-459a-874e-67495b635af2"
      },
      "source": [
        "opt_V, opt_Policy = value_iteration(env, max_iteration = 1000)\n",
        "print('Optimal Value function: ')\n",
        "print(opt_V.reshape((4, 4)))\n",
        "print('Final Policy: ')\n",
        "print(opt_Policy)"
      ],
      "execution_count": 17,
      "outputs": [
        {
          "output_type": "stream",
          "text": [
            "Value converged at iteration 341\n",
            "Optimal Value function: \n",
            "[[0.78538826 0.77836049 0.77368481 0.7713498 ]\n",
            " [0.78775777 0.         0.50562724 0.        ]\n",
            " [0.79250312 0.79963699 0.74472318 0.        ]\n",
            " [0.         0.86409247 0.93114742 0.        ]]\n",
            "Final Policy: \n",
            "[0 3 3 3 0 0 0 0 3 1 0 0 0 2 1 0]\n"
          ],
          "name": "stdout"
        }
      ]
    },
    {
      "cell_type": "code",
      "metadata": {
        "id": "OPAUzyNYeG4V"
      },
      "source": [
        "n_episode = 1000\n",
        "total_reward, avg_reward, episode_rewards = play_episodes(env, n_episode, opt_Policy, random = False)"
      ],
      "execution_count": 18,
      "outputs": []
    },
    {
      "cell_type": "code",
      "metadata": {
        "colab": {
          "base_uri": "https://localhost:8080/",
          "height": 735
        },
        "id": "5sgkPGU_eR1_",
        "outputId": "43ec196f-84d9-4766-d739-785b7bf583ad"
      },
      "source": [
        "import matplotlib.pyplot as plt\n",
        "plt.figure(figsize=(20, 12))\n",
        "plt.plot([x for x, y in episode_rewards], [y for x, y in episode_rewards],color='green')\n",
        "plt.title('Reward vs Episodes', fontsize=14)\n",
        "plt.xlabel('Iteration', fontsize=14)\n",
        "plt.ylabel('Reward', fontsize=14)\n",
        "plt.grid(False)\n",
        "plt.show()"
      ],
      "execution_count": 19,
      "outputs": [
        {
          "output_type": "display_data",
          "data": {
            "image/png": "[encoded data removed]",
            "text/plain": [
              "<Figure size 1440x864 with 1 Axes>"
            ]
          },
          "metadata": {
            "tags": [],
            "needs_background": "light"
          }
        }
      ]
    }
  ]
}